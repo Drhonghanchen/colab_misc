{
  "nbformat": 4,
  "nbformat_minor": 0,
  "metadata": {
    "colab": {
      "name": "obj_data.ipynb",
      "provenance": [],
      "authorship_tag": "ABX9TyNqeMiavDGeU5sAOZl5ys6m",
      "include_colab_link": true
    },
    "kernelspec": {
      "name": "python3",
      "display_name": "Python 3"
    },
    "language_info": {
      "name": "python"
    }
  },
  "cells": [
    {
      "cell_type": "markdown",
      "metadata": {
        "id": "view-in-github",
        "colab_type": "text"
      },
      "source": [
        "<a href=\"https://colab.research.google.com/github/Drhonghanchen/colab_misc/blob/main/obj_data.ipynb\" target=\"_parent\"><img src=\"https://colab.research.google.com/assets/colab-badge.svg\" alt=\"Open In Colab\"/></a>"
      ]
    },
    {
      "cell_type": "code",
      "metadata": {
        "id": "XIS2UlU0i5bi"
      },
      "source": [
        "from google.colab import drive"
      ],
      "execution_count": 1,
      "outputs": []
    },
    {
      "cell_type": "code",
      "metadata": {
        "colab": {
          "base_uri": "https://localhost:8080/"
        },
        "id": "Pds8i_0PjCXf",
        "outputId": "0808c41b-367f-49e9-8f0f-3e054fc5114d"
      },
      "source": [
        "drive.mount('/content/drive')"
      ],
      "execution_count": 2,
      "outputs": [
        {
          "output_type": "stream",
          "name": "stdout",
          "text": [
            "Mounted at /content/drive\n"
          ]
        }
      ]
    },
    {
      "cell_type": "code",
      "metadata": {
        "colab": {
          "base_uri": "https://localhost:8080/"
        },
        "id": "WRfTi4Jwjdc0",
        "outputId": "b1dd5fb6-d794-4c3a-e0a9-88e2f992e8d8"
      },
      "source": [
        "! wget http://images.cocodataset.org/annotations/annotations_trainval2017.zip -P /content/drive/MyDrive/"
      ],
      "execution_count": 3,
      "outputs": [
        {
          "output_type": "stream",
          "name": "stdout",
          "text": [
            "--2021-11-16 07:03:05--  http://images.cocodataset.org/annotations/annotations_trainval2017.zip\n",
            "Resolving images.cocodataset.org (images.cocodataset.org)... 52.217.168.49\n",
            "Connecting to images.cocodataset.org (images.cocodataset.org)|52.217.168.49|:80... connected.\n",
            "HTTP request sent, awaiting response... 200 OK\n",
            "Length: 252907541 (241M) [application/zip]\n",
            "Saving to: ‘/content/drive/MyDrive/annotations_trainval2017.zip’\n",
            "\n",
            "annotations_trainva 100%[===================>] 241.19M  39.7MB/s    in 6.6s    \n",
            "\n",
            "2021-11-16 07:03:12 (36.8 MB/s) - ‘/content/drive/MyDrive/annotations_trainval2017.zip’ saved [252907541/252907541]\n",
            "\n"
          ]
        }
      ]
    },
    {
      "cell_type": "code",
      "metadata": {
        "id": "mIf7gwpJjsrv"
      },
      "source": [
        "! mkdir /content/drive/MyDrive/cocoanno2017"
      ],
      "execution_count": 4,
      "outputs": []
    },
    {
      "cell_type": "code",
      "metadata": {
        "colab": {
          "base_uri": "https://localhost:8080/"
        },
        "id": "6r_A_f9Yj1az",
        "outputId": "146d3ec5-128b-4672-d55c-c658177f5f93"
      },
      "source": [
        "! unzip /content/drive/MyDrive/annotations_trainval2017.zip -d /content/drive/MyDrive/cocoanno2017"
      ],
      "execution_count": 5,
      "outputs": [
        {
          "output_type": "stream",
          "name": "stdout",
          "text": [
            "Archive:  /content/drive/MyDrive/annotations_trainval2017.zip\n",
            "  inflating: /content/drive/MyDrive/cocoanno2017/annotations/instances_train2017.json  \n",
            "  inflating: /content/drive/MyDrive/cocoanno2017/annotations/instances_val2017.json  \n",
            "  inflating: /content/drive/MyDrive/cocoanno2017/annotations/captions_train2017.json  \n",
            "  inflating: /content/drive/MyDrive/cocoanno2017/annotations/captions_val2017.json  \n",
            "  inflating: /content/drive/MyDrive/cocoanno2017/annotations/person_keypoints_train2017.json  \n",
            "  inflating: /content/drive/MyDrive/cocoanno2017/annotations/person_keypoints_val2017.json  \n"
          ]
        }
      ]
    },
    {
      "cell_type": "code",
      "metadata": {
        "id": "UhbSRTyij9gJ"
      },
      "source": [
        "! wget http://images.cocodataset.org/zips/val2017.zip -P /content/drive/MyDrive/"
      ],
      "execution_count": null,
      "outputs": []
    },
    {
      "cell_type": "code",
      "metadata": {
        "id": "7e6emASvkBtJ"
      },
      "source": [
        "! mkdir /content/drive/MyDrive/coco2017"
      ],
      "execution_count": null,
      "outputs": []
    },
    {
      "cell_type": "code",
      "metadata": {
        "id": "ePvvrZvMkECP"
      },
      "source": [
        "! unzip /content/drive/MyDrive/val2017.zip -d /content/drive/MyDrive/coco2017"
      ],
      "execution_count": null,
      "outputs": []
    }
  ]
}